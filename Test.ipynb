{
 "cells": [
  {
   "cell_type": "code",
   "execution_count": 3,
   "metadata": {},
   "outputs": [
    {
     "name": "stdout",
     "output_type": "stream",
     "text": [
      "Predicted Sentiment using KNN:  Positive  \n"
     ]
    }
   ],
   "source": [
    "import joblib\n",
    "import re\n",
    "from nltk.stem import WordNetLemmatizer\n",
    "\n",
    "# Preprocessing function\n",
    "def preprocess_text(text):\n",
    "    text = re.sub(r'http\\S+|www\\.\\S+', '', text)  # Remove URLs\n",
    "    text = re.sub(r'@\\w+', '', text)  # Remove mentions\n",
    "    text = re.sub(r'#\\w+', '', text)  # Remove hashtags\n",
    "    text = re.sub(r'[^a-zA-Z\\s]', '', text)  # Remove non-alphabetic characters\n",
    "    text = text.lower().strip()  # Lowercase and strip whitespace\n",
    "    lemmatizer = WordNetLemmatizer()\n",
    "    text = ' '.join([lemmatizer.lemmatize(word) for word in text.split()])\n",
    "    return text\n",
    "\n",
    "# Function to load KNN model and predict sentiment\n",
    "def predict_with_knn(text):\n",
    "    # Load the KNN model and vectorizer\n",
    "    knn_model = joblib.load('svm_model.pkl')\n",
    "    knn_vectorizer = joblib.load('svm_vectorizer.pkl')\n",
    "    \n",
    "    # Preprocess and vectorize the input text\n",
    "    text_cleaned = preprocess_text(text)\n",
    "    text_vec = knn_vectorizer.transform([text_cleaned])\n",
    "    \n",
    "    # Predict sentiment\n",
    "    predicted_sentiment = knn_model.predict(text_vec)\n",
    "    return predicted_sentiment[0]\n",
    "\n",
    "# Example usage\n",
    "if __name__ == \"__main__\":\n",
    "    new_text = \"I am so happy with this amazing product!\"\n",
    "    predicted_sentiment = predict_with_knn(new_text)\n",
    "    print(f\"Predicted Sentiment using KNN: {predicted_sentiment}\")\n"
   ]
  },
  {
   "cell_type": "code",
   "execution_count": null,
   "metadata": {},
   "outputs": [],
   "source": []
  }
 ],
 "metadata": {
  "kernelspec": {
   "display_name": "Python 3",
   "language": "python",
   "name": "python3"
  },
  "language_info": {
   "codemirror_mode": {
    "name": "ipython",
    "version": 3
   },
   "file_extension": ".py",
   "mimetype": "text/x-python",
   "name": "python",
   "nbconvert_exporter": "python",
   "pygments_lexer": "ipython3",
   "version": "3.11.2"
  }
 },
 "nbformat": 4,
 "nbformat_minor": 2
}
